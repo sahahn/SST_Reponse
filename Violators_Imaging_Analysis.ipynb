{
 "cells": [
  {
   "cell_type": "markdown",
   "metadata": {},
   "source": [
    "### This notebook contains a few different versions of a reliability-esque imaging analysis where we tried to get a handle on how the violators differed from the rest of the subjects in terms of activation.\n",
    "\n",
    "\n",
    "#### Version 1 does a split half procedure, but appeared to be pretty sensative to the random half selected\n",
    "\n",
    "#### Version 2 moves to comparing against the full remainder sample\n",
    "\n",
    "#### Version 3 includes a matched group along with the group of violators"
   ]
  },
  {
   "cell_type": "code",
   "execution_count": 1,
   "metadata": {},
   "outputs": [],
   "source": [
    "import numpy as np\n",
    "import random\n",
    "import pandas as pd\n",
    "import nibabel as nib\n",
    "from sklearn.model_selection import train_test_split\n",
    "from sklearn.linear_model import LinearRegression\n",
    "\n",
    "import seaborn as sns\n",
    "import matplotlib.pyplot as plt"
   ]
  },
  {
   "cell_type": "markdown",
   "metadata": {},
   "source": [
    "0 'correct_go',\n",
    "1 'incorrect_go',\n",
    "2 'correctlate_go',\n",
    "3 'noresp_go',\n",
    "4 'incorrectlate_go',\n",
    "5 'correct_stop',\n",
    "6 'incorrect_stop',\n",
    "7 'ssd_stop',\n",
    "8 'correct_go_vs_fixation',\n",
    "9 'correct_stop_vs_correct_go',\n",
    "10 'incorrect_stop_vs_correct_go',\n",
    "11 'any_stop_vs_correct_go',\n",
    "12 'correct_stop_vs_incorrect_stop',\n",
    "13 'incorrect_go_vs_correct_go',\n",
    "14 'incorrect_go_vs_incorrect_stop'"
   ]
  },
  {
   "cell_type": "code",
   "execution_count": 2,
   "metadata": {},
   "outputs": [],
   "source": [
    "def get_cohens(data):\n",
    "\n",
    "    mean = np.mean(data, axis=0)\n",
    "    std = np.std(data, axis=0)\n",
    "    cohen = mean / std\n",
    "\n",
    "    return cohen\n",
    "\n",
    "def get_corr_size_n(resid_data, base_cohens, n):\n",
    "\n",
    "    np.random.seed(random.randint(1, 10000000))\n",
    "\n",
    "    index = np.arange(0, len(resid_data))\n",
    "    choices = np.random.choice(index, n, replace=False)\n",
    "    cohens = get_cohens(resid_data[choices])\n",
    "\n",
    "    return np.corrcoef(cohens, base_cohens)[0][1]\n",
    "\n",
    "def load_data(data_loc):\n",
    "    \n",
    "    data = nib.load(data_loc).get_fdata()\n",
    "    data = np.squeeze(data)\n",
    "    data = np.transpose(data, (1,0))\n",
    "    \n",
    "    return data\n",
    "\n",
    "def get_resid(to_resid, data):\n",
    "    \n",
    "    to_resid = np.array(to_resid)\n",
    "    data = np.array(data)\n",
    "    \n",
    "    model = LinearRegression().fit(to_resid, data)\n",
    "    dif = data - model.predict(to_resid)\n",
    "    resid_data = model.intercept_ + dif\n",
    "    \n",
    "    return resid_data\n",
    "\n",
    "def load_and_resid(contrast, subjects, img_subjs, covars):\n",
    "    \n",
    "    all_data = []\n",
    "    \n",
    "    options = ['cortical_lh_', 'cortical_rh_', 'subcortical_']\n",
    "    for option in options:\n",
    "        loc = 'alt_img_data/' + option + contrast + '.mgz'\n",
    "        all_data.append(load_data(loc))\n",
    "        print(all_data[-1].shape)\n",
    "    data = np.concatenate(all_data, axis=1)\n",
    "\n",
    "    subj_inds = [img_subjs.index(s) for s in subjects]\n",
    "    return get_resid(covars.loc[subjects], data[subj_inds])"
   ]
  },
  {
   "cell_type": "code",
   "execution_count": 3,
   "metadata": {},
   "outputs": [],
   "source": [
    "with open('clean_subj_subset.txt', 'r') as f:\n",
    "    lines = f.readlines()\n",
    "    subjs = [l.strip() for l in lines]\n",
    "    \n",
    "with open('clean_subj_vio.txt', 'r') as f:\n",
    "    lines = f.readlines()\n",
    "    vio_subjs = [l.strip() for l in lines]\n",
    "    \n",
    "with open('alt_img_data/final_subjects.txt', 'r') as f:\n",
    "    lines = f.readlines()\n",
    "    img_subjs = [l.strip() for l in lines]"
   ]
  },
  {
   "cell_type": "code",
   "execution_count": 4,
   "metadata": {},
   "outputs": [
    {
     "data": {
      "text/plain": [
       "5258"
      ]
     },
     "execution_count": 4,
     "metadata": {},
     "output_type": "execute_result"
    }
   ],
   "source": [
    "subjects = list(set(img_subjs).intersection(set(subjs)))\n",
    "len(subjects)"
   ]
  },
  {
   "cell_type": "code",
   "execution_count": 5,
   "metadata": {},
   "outputs": [
    {
     "data": {
      "text/plain": [
       "257"
      ]
     },
     "execution_count": 5,
     "metadata": {},
     "output_type": "execute_result"
    }
   ],
   "source": [
    "vio = list(set(img_subjs).intersection(set(vio_subjs)))\n",
    "len(vio)"
   ]
  },
  {
   "cell_type": "code",
   "execution_count": 6,
   "metadata": {},
   "outputs": [
    {
     "data": {
      "text/plain": [
       "5001"
      ]
     },
     "execution_count": 6,
     "metadata": {},
     "output_type": "execute_result"
    }
   ],
   "source": [
    "non_vio_subjects = list(set(subjects) - set(vio))\n",
    "len(non_vio_subjects)"
   ]
  },
  {
   "cell_type": "code",
   "execution_count": 7,
   "metadata": {},
   "outputs": [
    {
     "data": {
      "text/plain": [
       "4487"
      ]
     },
     "execution_count": 7,
     "metadata": {},
     "output_type": "execute_result"
    }
   ],
   "source": [
    "len(non_vio_subjects) - (257 * 2)"
   ]
  },
  {
   "cell_type": "code",
   "execution_count": 8,
   "metadata": {},
   "outputs": [],
   "source": [
    "#with open('non_vio_img_subset.txt', 'w') as f:\n",
    "#    for s in non_vio_subjects:\n",
    "#        f.write(s + '\\n')\n",
    "        \n",
    "#with open('vio_img_subset.txt', 'w') as f:\n",
    "#    for s in vio:\n",
    "#        f.write(s + '\\n')"
   ]
  },
  {
   "cell_type": "code",
   "execution_count": 9,
   "metadata": {},
   "outputs": [],
   "source": [
    "covars = pd.read_csv('alt_img_data/covars_SST.csv', index_col='src_subject_id')\n",
    "covars = covars.loc[subjects]\n",
    "covars = covars.drop('tfmri_sst_all_beh_total_meanrt', axis=1)"
   ]
  },
  {
   "cell_type": "code",
   "execution_count": 10,
   "metadata": {},
   "outputs": [],
   "source": [
    "def get_corrs(contrast, n):\n",
    "   \n",
    "    base_resid = load_and_resid(contrast, split1_subjs, img_subjs, covars)\n",
    "    base_cohens = get_cohens(base_resid)\n",
    "\n",
    "    compare_resid = load_and_resid(contrast, all_split2_subjs, img_subjs, covars)\n",
    "    non_vio_resid = compare_resid[:len(split2_subjs)]\n",
    "    \n",
    "    corrs = []\n",
    "    for i in range(n):\n",
    "        corrs.append(get_corr_size_n(non_vio_resid, base_cohens, len(vio)))\n",
    "\n",
    "    vio_resid = compare_resid[len(split2_subjs):]\n",
    "    vio_corr = get_corr_size_n(vio_resid, base_cohens, len(vio))\n",
    "    \n",
    "    return corrs, vio_corr\n",
    "\n",
    "def get_contrast(num, name, n):\n",
    "    \n",
    "    corrs, vio_corr = get_corrs(num, n)\n",
    "    \n",
    "    df = pd.DataFrame()\n",
    "    df['cohens correlation with left-out group'] = corrs\n",
    "    df['contrast'] = [name for i in range(len(corrs))]\n",
    "    \n",
    "    return df, vio_corr\n",
    "    \n",
    "def add_contrast(all_df, vio_corrs, num, name, n):\n",
    "    \n",
    "    df, vio_corr = get_contrast(num, name, n)\n",
    "    \n",
    "    mean = np.mean(df['cohens correlation with left-out group'])\n",
    "    std = np.std(df['cohens correlation with left-out group'])\n",
    "    print('vio std away from mean = ', ((mean-vio_corr) / std))\n",
    "    \n",
    "    all_df = all_df.append(df)\n",
    "    vio_corrs.append(vio_corr)\n",
    "    \n",
    "    return all_df, vio_corrs"
   ]
  },
  {
   "cell_type": "markdown",
   "metadata": {},
   "source": [
    "## Version 1"
   ]
  },
  {
   "cell_type": "code",
   "execution_count": 11,
   "metadata": {},
   "outputs": [
    {
     "data": {
      "text/plain": [
       "(2629, 2629)"
      ]
     },
     "execution_count": 11,
     "metadata": {},
     "output_type": "execute_result"
    }
   ],
   "source": [
    "sp2_sz = int(((len(subjects) / 2) - len(vio)))\n",
    "\n",
    "split1_subjs, split2_subjs = train_test_split(non_vio_subjects, test_size=sp2_sz, random_state=2)\n",
    "all_split2_subjs = split2_subjs + vio\n",
    "\n",
    "len(split1_subjs), len(all_split2_subjs)"
   ]
  },
  {
   "cell_type": "code",
   "execution_count": 12,
   "metadata": {},
   "outputs": [
    {
     "name": "stdout",
     "output_type": "stream",
     "text": [
      "(6204, 10242)\n",
      "(6204, 10242)\n",
      "(6204, 31870)\n",
      "(6204, 10242)\n",
      "(6204, 10242)\n",
      "(6204, 31870)\n",
      "vio std away from mean =  0.60880203589468\n",
      "(6204, 10242)\n",
      "(6204, 10242)\n",
      "(6204, 31870)\n",
      "(6204, 10242)\n",
      "(6204, 10242)\n",
      "(6204, 31870)\n",
      "vio std away from mean =  1.8103464524019992\n",
      "(6204, 10242)\n",
      "(6204, 10242)\n",
      "(6204, 31870)\n",
      "(6204, 10242)\n",
      "(6204, 10242)\n",
      "(6204, 31870)\n",
      "vio std away from mean =  0.515095955558587\n",
      "(6204, 10242)\n",
      "(6204, 10242)\n",
      "(6204, 31870)\n",
      "(6204, 10242)\n",
      "(6204, 10242)\n",
      "(6204, 31870)\n",
      "vio std away from mean =  5.534251850828912\n"
     ]
    }
   ],
   "source": [
    "all_df = pd.DataFrame()\n",
    "vio_corrs = []\n",
    "\n",
    "n = 1000\n",
    "\n",
    "all_df, vio_corrs = add_contrast(all_df, vio_corrs, '5', 'correct_stop', n)\n",
    "all_df, vio_corrs = add_contrast(all_df, vio_corrs, '6', 'incorrect_stop', n)\n",
    "all_df, vio_corrs = add_contrast(all_df, vio_corrs, '9', 'correct_stop_vs_correct_go', n)\n",
    "all_df, vio_corrs = add_contrast(all_df, vio_corrs, '10', 'incorrect_stop_vs_correct_go', n)"
   ]
  },
  {
   "cell_type": "code",
   "execution_count": 13,
   "metadata": {
    "scrolled": true
   },
   "outputs": [
    {
     "data": {
      "image/png": "[encoded data removed]",
      "text/plain": [
       "<Figure size 1080x720 with 1 Axes>"
      ]
     },
     "metadata": {
      "needs_background": "light"
     },
     "output_type": "display_data"
    }
   ],
   "source": [
    "plt.figure(figsize=(15, 10))\n",
    "sns.violinplot(x='contrast', y='cohens correlation with left-out group', data=all_df, inner='quartile')\n",
    "\n",
    "plt.hlines(vio_corrs[0], -.22, .22, color='red', linestyles='dashed')\n",
    "plt.hlines(vio_corrs[1], .8, 1.2, color='red', linestyles='dashed')\n",
    "plt.hlines(vio_corrs[2], 1.8, 2.2,  color='red', linestyles='dashed')\n",
    "plt.hlines(vio_corrs[3], 2.8, 3.2,  color='red', linestyles='dashed')\n",
    "plt.savefig('plots/RelyLikeTest1.png', dpi=500)"
   ]
  },
  {
   "cell_type": "markdown",
   "metadata": {},
   "source": [
    "Notice that with just one split results are a bit too variable depending on the split\n",
    "\n",
    "\n",
    "## Version 2"
   ]
  },
  {
   "cell_type": "code",
   "execution_count": 14,
   "metadata": {},
   "outputs": [],
   "source": [
    "def get_grp_corrs(non_vio_data, vio_data):\n",
    "    \n",
    "    choices = np.random.choice(np.arange(len(non_vio_data)), len(vio), replace=False)\n",
    "    rest = [i for i in range(len(non_vio_data)) if i not in choices]\n",
    "    \n",
    "    standard_cohens = get_cohens(non_vio_data[rest])\n",
    "    random_group_cohens = get_cohens(non_vio_data[choices])\n",
    "    vio_cohens = get_cohens(vio_data)\n",
    "\n",
    "    rand_corr = np.corrcoef(standard_cohens, random_group_cohens)[0][1]\n",
    "    vio_corr = np.corrcoef(standard_cohens, vio_cohens)[0][1]\n",
    "\n",
    "    return rand_corr, vio_corr \n",
    "\n",
    "def get_n_group_corr_dfs(contrast, name, n):\n",
    "    \n",
    "    all_data = load_and_resid(contrast, non_vio_subjects+vio, img_subjs, covars)\n",
    "    non_vio_data = all_data[:len(non_vio_subjects)]\n",
    "    vio_data = all_data[len(non_vio_subjects):]\n",
    "    \n",
    "    r_corrs, v_corrs = [], []\n",
    "    \n",
    "    for i in range(n):\n",
    "        rc, vc =  get_grp_corrs(non_vio_data, vio_data)\n",
    "        r_corrs.append(rc)\n",
    "        v_corrs.append(vc)\n",
    "\n",
    "    print('mean-vio std away from random-mean = ',\n",
    "          ((np.mean(r_corrs)-np.mean(v_corrs)) / np.std(r_corrs)))\n",
    "        \n",
    "    r_df = pd.DataFrame()\n",
    "    r_df['cohens correlation with left-out group'] = r_corrs\n",
    "    r_df['contrast'] = [name for i in range(len(r_corrs))]\n",
    "    \n",
    "    v_df = pd.DataFrame()\n",
    "    v_df['cohens correlation with left-out group'] = v_corrs\n",
    "    v_df['contrast'] = [name for i in range(len(v_corrs))]\n",
    "        \n",
    "    return r_df, v_df\n",
    "\n",
    "def add_grp_contrast(r_dfs, v_dfs, contrast, name, n):\n",
    "    \n",
    "    r_df, v_df = get_n_group_corr_dfs(contrast, name, n)\n",
    "    \n",
    "    r_dfs = r_dfs.append(r_df)\n",
    "    v_dfs = v_dfs.append(v_df)\n",
    "    \n",
    "    return r_dfs, v_dfs\n"
   ]
  },
  {
   "cell_type": "code",
   "execution_count": null,
   "metadata": {},
   "outputs": [
    {
     "name": "stdout",
     "output_type": "stream",
     "text": [
      "(6204, 10242)\n",
      "(6204, 10242)\n",
      "(6204, 31870)\n",
      "mean-vio std away from random-mean =  1.2605918347180545\n",
      "(6204, 10242)\n",
      "(6204, 10242)\n",
      "(6204, 31870)\n"
     ]
    }
   ],
   "source": [
    "r_dfs, v_dfs = pd.DataFrame(), pd.DataFrame()\n",
    "\n",
    "n = 1000\n",
    "\n",
    "r_dfs, v_dfs = add_grp_contrast(r_dfs, v_dfs, '5', 'correct_stop', n)\n",
    "r_dfs, v_dfs = add_grp_contrast(r_dfs, v_dfs, '9', 'correct_stop_vs_correct_go', n)"
   ]
  },
  {
   "cell_type": "code",
   "execution_count": null,
   "metadata": {},
   "outputs": [],
   "source": [
    "plt.figure(figsize=(15, 10))\n",
    "sns.violinplot(x='contrast', y='cohens correlation with left-out group', data=r_dfs,\n",
    "               inner='quartile', saturation=.75)\n",
    "sns.violinplot(x='contrast', y='cohens correlation with left-out group', data=v_dfs, \n",
    "               inner='box', linewidth=1, color='red', saturation=.75, cut=False)\n",
    "\n",
    "plt.xticks(fontsize=12)\n",
    "plt.yticks(fontsize=12)\n",
    "plt.xlabel('Contrast', fontsize=14)\n",
    "plt.ylabel('Cohens correlation with remaining subjects', fontsize=14)\n",
    "plt.title('Violators comparison with random groups of the same size', fontsize=16)\n",
    "plt.ylim(.9, 1)\n",
    "\n",
    "plt.scatter(0,0, color='red', label='Group of Violators')\n",
    "plt.legend(fontsize=14)\n",
    "\n",
    "\n",
    "plt.savefig('plots/RelyLikeTest2.png', dpi=400)"
   ]
  },
  {
   "cell_type": "markdown",
   "metadata": {},
   "source": [
    "### Version 3"
   ]
  },
  {
   "cell_type": "code",
   "execution_count": null,
   "metadata": {},
   "outputs": [],
   "source": [
    "with open('/home/sage/Downloads/matchedNV.csv', 'r') as f:\n",
    "    lines = f.readlines()\n",
    "    match1 = [l.strip() for l in lines]\n",
    "    match1.remove('src_subject_id')\n",
    "    \n",
    "with open('/home/sage/Downloads/matchedNV_withSFRT.csv', 'r') as f:\n",
    "    lines = f.readlines()\n",
    "    match2 = [l.strip() for l in lines]\n",
    "    match2.remove('src_subject_id')"
   ]
  },
  {
   "cell_type": "code",
   "execution_count": null,
   "metadata": {},
   "outputs": [],
   "source": [
    "def get_grp_corrs_match(non_vio_data, vio_data, match_data):\n",
    "    \n",
    "    choices = np.random.choice(np.arange(len(non_vio_data)), len(vio), replace=False)\n",
    "    rest = [i for i in range(len(non_vio_data)) if i not in choices]\n",
    "    \n",
    "    standard_cohens = get_cohens(non_vio_data[rest])\n",
    "    random_group_cohens = get_cohens(non_vio_data[choices])\n",
    "    vio_cohens = get_cohens(vio_data)\n",
    "    match_cohens = get_cohens(match_data)\n",
    "\n",
    "    rand_corr = np.corrcoef(standard_cohens, random_group_cohens)[0][1]\n",
    "    vio_corr = np.corrcoef(standard_cohens, vio_cohens)[0][1]\n",
    "    match_corr = np.corrcoef(standard_cohens, match_cohens)[0][1]\n",
    "\n",
    "    return rand_corr, vio_corr, match_corr\n",
    "\n",
    "def get_n_group_corr_dfs_match(contrast, name, n, match):\n",
    "    \n",
    "    all_data = load_and_resid(contrast, non_vio_subjects+vio+match, img_subjs, covars)\n",
    "    \n",
    "    non_vio_data = all_data[:len(non_vio_subjects)]\n",
    "    vio_data = all_data[len(non_vio_subjects):len(non_vio_subjects)+len(vio)]\n",
    "    match_data = all_data[len(non_vio_subjects)+len(vio):]\n",
    "    \n",
    "    r_corrs, v_corrs, m_corrs = [], [], []\n",
    "    \n",
    "    for i in range(n):\n",
    "        rc, vc, mc =  get_grp_corrs_match(non_vio_data, vio_data, match_data)\n",
    "        r_corrs.append(rc)\n",
    "        v_corrs.append(vc)\n",
    "        m_corrs.append(mc)\n",
    "\n",
    "    print('mean-vio std away from random-mean = ',\n",
    "          ((np.mean(r_corrs)-np.mean(v_corrs)) / np.std(r_corrs)))\n",
    "    print('mean-match std away from random-mean = ',\n",
    "          ((np.mean(r_corrs)-np.mean(m_corrs)) / np.std(r_corrs)))\n",
    "        \n",
    "    r_df = pd.DataFrame()\n",
    "    r_df['cohens correlation with left-out group'] = r_corrs\n",
    "    r_df['contrast'] = [name for i in range(len(r_corrs))]\n",
    "    \n",
    "    v_df = pd.DataFrame()\n",
    "    v_df['cohens correlation with left-out group'] = v_corrs\n",
    "    v_df['contrast'] = [name for i in range(len(v_corrs))]\n",
    "    \n",
    "    m_df = pd.DataFrame()\n",
    "    m_df['cohens correlation with left-out group'] = m_corrs\n",
    "    m_df['contrast'] = [name for i in range(len(m_corrs))]\n",
    "        \n",
    "    return r_df, v_df, m_df\n",
    "\n",
    "def add_grp_contrast_match(r_dfs, v_dfs, m_dfs, contrast, name, n, match):\n",
    "    \n",
    "    r_df, v_df, m_df = get_n_group_corr_dfs_match(contrast, name, n, match)\n",
    "    \n",
    "    r_dfs = r_dfs.append(r_df)\n",
    "    v_dfs = v_dfs.append(v_df)\n",
    "    m_dfs = m_dfs.append(m_df)\n",
    "    \n",
    "    return r_dfs, v_dfs, m_dfs"
   ]
  },
  {
   "cell_type": "code",
   "execution_count": null,
   "metadata": {},
   "outputs": [],
   "source": [
    "r_dfs, v_dfs, m_dfs = pd.DataFrame(), pd.DataFrame(), pd.DataFrame()\n",
    "\n",
    "n = 10000\n",
    "\n",
    "r_dfs, v_dfs, m_dfs = add_grp_contrast_match(r_dfs, v_dfs, m_dfs, '5', 'correct_stop', n, match1)\n",
    "r_dfs, v_dfs, m_dfs = add_grp_contrast_match(r_dfs, v_dfs, m_dfs, '9', 'correct_stop_vs_correct_go', n, match1)"
   ]
  },
  {
   "cell_type": "code",
   "execution_count": null,
   "metadata": {},
   "outputs": [],
   "source": [
    "plt.figure(figsize=(15, 10))\n",
    "sns.violinplot(x='contrast', y='cohens correlation with left-out group', data=r_dfs,\n",
    "               inner='quartile', saturation=.75)\n",
    "sns.violinplot(x='contrast', y='cohens correlation with left-out group', data=v_dfs, \n",
    "               inner='box', linewidth=1, color='red', saturation=.75, cut=False)\n",
    "sns.violinplot(x='contrast', y='cohens correlation with left-out group', data=m_dfs, \n",
    "               inner='box', linewidth=1, color='green', saturation=.75, cut=False)\n",
    "\n",
    "plt.xticks(fontsize=12)\n",
    "plt.yticks(fontsize=12)\n",
    "plt.xlabel('Contrast', fontsize=14)\n",
    "plt.ylabel('Cohens correlation with remaining subjects', fontsize=14)\n",
    "plt.title('Violators comparison with random groups of the same size', fontsize=16)\n",
    "plt.ylim(.9, 1)\n",
    "\n",
    "plt.scatter(0,0, color='red', label='Group of Violators')\n",
    "plt.scatter(0,0, color='green', label='Matched Group')\n",
    "plt.legend(fontsize=14)\n",
    "\n",
    "plt.savefig('plots/RelyLikeTest3_m1_10k.png', dpi=400)"
   ]
  },
  {
   "cell_type": "code",
   "execution_count": null,
   "metadata": {},
   "outputs": [],
   "source": [
    "vc1 = np.mean(v_dfs[v_dfs['contrast'] == 'correct_stop']['cohens correlation with left-out group'])\n",
    "mc1 = np.mean(m_dfs[m_dfs['contrast'] == 'correct_stop']['cohens correlation with left-out group'])\n",
    "rc1 = np.mean(r_dfs[r_dfs['contrast'] == 'correct_stop']['cohens correlation with left-out group'])\n",
    "\n",
    "print(vc1, mc1, rc1)\n",
    "\n",
    "vc2 = np.mean(v_dfs[v_dfs['contrast'] == 'correct_stop_vs_correct_go']['cohens correlation with left-out group'])\n",
    "mc2 = np.mean(m_dfs[m_dfs['contrast'] == 'correct_stop_vs_correct_go']['cohens correlation with left-out group'])\n",
    "rc2 = np.mean(r_dfs[r_dfs['contrast'] == 'correct_stop_vs_correct_go']['cohens correlation with left-out group'])\n",
    "\n",
    "print(vc2, mc2, rc2)\n",
    "\n",
    "plt.figure(figsize=(15, 10))\n",
    "sns.violinplot(x='contrast', y='cohens correlation with left-out group', data=r_dfs,\n",
    "               inner='quartile', saturation=.75)\n",
    "\n",
    "plt.xticks(fontsize=12)\n",
    "plt.yticks(fontsize=12)\n",
    "plt.xlabel('Contrast', fontsize=14)\n",
    "plt.ylabel('Cohens correlation with remaining subjects', fontsize=14)\n",
    "plt.title('Violators comparison with random groups of the same size', fontsize=16)\n",
    "plt.ylim(.9, 1)\n",
    "\n",
    "plt.hlines(vc1, -.25, .25, color='red', linestyles='dashed', linewidth=3, label='Group of Violators')\n",
    "plt.hlines(mc1, -.25, .25, color='green', linestyles='dashed', linewidth=3, label='Matched Group')\n",
    "\n",
    "plt.hlines(vc2, .75, 1.25, color='red', linestyles='dashed', linewidth=3)\n",
    "plt.hlines(mc2, .75, 1.25, color='green', linestyles='dashed', linewidth=3)\n",
    "\n",
    "plt.legend(fontsize=14)\n",
    "plt.savefig('plots/RelyLikeTest3_m1_alt_10k.png', dpi=400)"
   ]
  },
  {
   "cell_type": "code",
   "execution_count": null,
   "metadata": {},
   "outputs": [],
   "source": [
    "r_dfs, v_dfs, m_dfs = pd.DataFrame(), pd.DataFrame(), pd.DataFrame()\n",
    "\n",
    "n = 1000\n",
    "\n",
    "r_dfs, v_dfs, m_dfs = add_grp_contrast_match(r_dfs, v_dfs, m_dfs, '5', 'correct_stop', n, match2)\n",
    "r_dfs, v_dfs, m_dfs = add_grp_contrast_match(r_dfs, v_dfs, m_dfs, '9', 'correct_stop_vs_correct_go', n, match2)"
   ]
  },
  {
   "cell_type": "code",
   "execution_count": null,
   "metadata": {},
   "outputs": [],
   "source": [
    "plt.figure(figsize=(15, 10))\n",
    "sns.violinplot(x='contrast', y='cohens correlation with left-out group', data=r_dfs,\n",
    "               inner='quartile', saturation=.75)\n",
    "sns.violinplot(x='contrast', y='cohens correlation with left-out group', data=v_dfs, \n",
    "               inner='box', linewidth=1, color='red', saturation=.75, cut=False)\n",
    "sns.violinplot(x='contrast', y='cohens correlation with left-out group', data=m_dfs, \n",
    "               inner='box', linewidth=1, color='green', saturation=.75, cut=False)\n",
    "\n",
    "plt.xticks(fontsize=12)\n",
    "plt.yticks(fontsize=12)\n",
    "plt.xlabel('Contrast', fontsize=14)\n",
    "plt.ylabel('Cohens correlation with remaining subjects', fontsize=14)\n",
    "plt.title('Violators comparison with random groups of the same size', fontsize=16)\n",
    "plt.ylim(.9, 1)\n",
    "\n",
    "plt.scatter(0,0, color='red', label='Group of Violators')\n",
    "plt.scatter(0,0, color='green', label='Matched Group')\n",
    "plt.legend(fontsize=14)\n",
    "\n",
    "plt.savefig('plots/RelyLikeTest3_m2.png', dpi=400)"
   ]
  },
  {
   "cell_type": "code",
   "execution_count": null,
   "metadata": {},
   "outputs": [],
   "source": [
    "vc1 = np.mean(v_dfs[v_dfs['contrast'] == 'correct_stop']['cohens correlation with left-out group'])\n",
    "mc1 = np.mean(m_dfs[m_dfs['contrast'] == 'correct_stop']['cohens correlation with left-out group'])\n",
    "\n",
    "vc2 = np.mean(v_dfs[v_dfs['contrast'] == 'correct_stop_vs_correct_go']['cohens correlation with left-out group'])\n",
    "mc2 = np.mean(m_dfs[m_dfs['contrast'] == 'correct_stop_vs_correct_go']['cohens correlation with left-out group'])\n",
    "\n",
    "plt.figure(figsize=(15, 10))\n",
    "sns.violinplot(x='contrast', y='cohens correlation with left-out group', data=r_dfs,\n",
    "               inner='quartile', saturation=.75)\n",
    "\n",
    "plt.xticks(fontsize=12)\n",
    "plt.yticks(fontsize=12)\n",
    "plt.xlabel('Contrast', fontsize=14)\n",
    "plt.ylabel('Cohens correlation with remaining subjects', fontsize=14)\n",
    "plt.title('Violators comparison with random groups of the same size', fontsize=16)\n",
    "plt.ylim(.9, 1)\n",
    "\n",
    "plt.hlines(vc1, -.25, .25, color='red', linestyles='dashed', linewidth=3, label='Group of Violators')\n",
    "plt.hlines(mc1, -.25, .25, color='green', linestyles='dashed', linewidth=3, label='Matched Group')\n",
    "\n",
    "plt.hlines(vc2, .75, 1.25, color='red', linestyles='dashed', linewidth=3)\n",
    "plt.hlines(mc2, .75, 1.25, color='green', linestyles='dashed', linewidth=3)\n",
    "\n",
    "plt.legend(fontsize=14)\n",
    "plt.savefig('plots/RelyLikeTest3_m2_alt.png', dpi=400)"
   ]
  }
 ],
 "metadata": {
  "kernelspec": {
   "display_name": "Python 3.7.6 64-bit ('home': conda)",
   "language": "python",
   "name": "python37664bithomeconda2aade2e1d0ce4797afe91f4891a59d68"
  },
  "language_info": {
   "codemirror_mode": {
    "name": "ipython",
    "version": 3
   },
   "file_extension": ".py",
   "mimetype": "text/x-python",
   "name": "python",
   "nbconvert_exporter": "python",
   "pygments_lexer": "ipython3",
   "version": "3.7.6"
  }
 },
 "nbformat": 4,
 "nbformat_minor": 4
}
